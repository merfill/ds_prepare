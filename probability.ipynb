{
 "cells": [
  {
   "attachments": {},
   "cell_type": "markdown",
   "metadata": {},
   "source": [
    "# Probability\n",
    "## Probabilistic Model\n",
    "\n",
    "1. **Sample space** $\\Omega$, which is set of all possible outcomes of an experiment.\n",
    "2. **Probability law**, which assigns to a set $A$ of possible outcomes (also called an **event**) a nonnegative number $P(A)$ (called **probability** of $A$).\n",
    "\n",
    "The probability law must satisfy the following properties:\n",
    "1. (**Nonnegativity**) $P(A) \\geq 1$.\n",
    "2. (**Additivity**) If $A_1, A_2, \\ldots, A_n$ is a sequence of disjoint event, then the probability of their union satisfies: $P(A_1 \\cup A_2 \\cup \\ldots \\cup A_n) = P(A_1) + P(A_2) + \\ldots + P(A_n)$.\n",
    "3. (**Normalization**) $P(\\Omega) = 1$.\n",
    "\n",
    "## Conditional Probability\n",
    "\n",
    "Conditional probability provides us with a way to reason about outcome of an experiment, based on **partial information**. Conditional probability of $A$ given $B$ is denoted as $P(A|B)$. By definition:\n",
    "$$P(A|B) = \\frac{P(A \\cap B)}{P(B)}$$\n",
    "\n",
    "## Total Probability Theorem\n",
    "\n"
   ]
  }
 ],
 "metadata": {
  "kernelspec": {
   "display_name": "Python 3",
   "language": "python",
   "name": "python3"
  },
  "language_info": {
   "codemirror_mode": {
    "name": "ipython",
    "version": 3
   },
   "file_extension": ".py",
   "mimetype": "text/x-python",
   "name": "python",
   "nbconvert_exporter": "python",
   "pygments_lexer": "ipython3",
   "version": "3.7.3"
  }
 },
 "nbformat": 4,
 "nbformat_minor": 2
}
