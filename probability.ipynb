{
 "cells": [
  {
   "cell_type": "markdown",
   "metadata": {},
   "source": [
    "# Probability\n",
    "## Probabilistic Model\n",
    "\n",
    "1. **Sample space** $\\Omega$, which is set of all possible outcomes of an experiment.\n",
    "2. **Probability law**, which assigns to a set $A$ of possible outcomes (also called an **event**) a nonnegative number $P(A)$ (called **probability** of $A$).\n",
    "\n",
    "The probability law must satisfy the following properties:\n",
    "1. (**Nonnegativity**) $P(A) \\geq 0$.\n",
    "2. (**Additivity**) If $A_1, A_2, \\ldots, A_n$ is a sequence of disjoint event, then the probability of their union satisfies: $P(A_1 \\cup A_2 \\cup \\ldots \\cup A_n) = P(A_1) + P(A_2) + \\ldots + P(A_n)$.\n",
    "3. (**Normalization**) $P(\\Omega) = 1$.\n",
    "\n",
    "## Conditional Probability\n",
    "\n",
    "Conditional probability provides us with a way to reason about outcome of an experiment, based on **partial information**. Conditional probability of $A$ given $B$ is denoted as $P(A|B)$. By definition:\n",
    "$$P(A|B) = \\frac{P(A \\cap B)}{P(B)}$$\n",
    "\n",
    "## Total Probability Theorem\n",
    "\n",
    "Let $A_1, \\ldots, A_n$ be disjoint events that cover space $\\Omega$ and assume that $P(A_i) \\ge 0$ for each $i \\in [1;n]$. Then, for every event $B$ we have:\n",
    "$$P(B) = P(A_1\\cap B) + \\ldots + P(A_n\\cap B) = P(A_1) P(B|A_1) + \\ldots + P(A_n) P(B|A_n)$$\n",
    "\n",
    "## Bayes' Rule\n",
    "\n",
    "$$P(A)P(A|B) = P(B)P(B|A)$$\n",
    "\n",
    "$$P(A|B) = \\frac{P(B)P(B|A)}{P(B)}$$\n",
    "\n",
    "Let $A_1, \\ldots, A_n$ be disjoint events that cover space $\\Omega$ and assume that $P(A_i) \\ge 0$ for each $i \\in [1;n]$. Then, for every event $B$ we have and every $i\\in [1;n]$:\n",
    "\n",
    "$$P(A_i|B) = \\frac{P(A_i)P(B|A_i)}{P(B)} = \\frac{P(A_i)P(B|A_i)}{P(A_1) P(B|A_1) + \\ldots + P(A_n) P(B|A_n)}$$"
   ]
  },
  {
   "cell_type": "markdown",
   "metadata": {},
   "source": [
    "# Random Variable\n",
    "\n",
    "## Definition\n",
    "\n",
    "Random variable is a real valued function of the experimental outcome. Conceptually, randome variable is needed to assign numeric values to outcomes to be easy to define probability of outcomes.\n",
    "\n",
    "<img src=\"random_variable.png\" alt=\"Drawing\" style=\"width: 700px;\"/>\n",
    "\n",
    "### Examples\n",
    "\n",
    "* Number of heads in a sequence of 5 coin tosses is randome variable.\n",
    "* Sum of rolls in involving two rolls of die is randome variable as well as number of sixes in two rolls.\n",
    "* In message transmission: time of transmission and number of errors in transmissions are .randome variables.\n",
    "\n",
    "## Discrete Random Variable\n",
    "\n",
    "Discrete random variable is a real-valued function of experiment outcomes that can take a finite or infinite countable number of values.\n",
    "\n",
    "Discrete random variable has an associated **mass function** (**PMF**), which gives the probability of each numerical value that the random variable can take.\n",
    "\n",
    "A function of discrete randome variable defines another discrete random variable, whose PMF cab be obtained from the PMF of the original random variable.\n",
    "\n",
    "### Probability Mass Function\n",
    "\n",
    "Let $X$ is discrete random variable and $x$ is any possible value of $X$. **Probability mass** of $x$ denoted $p_X(x)$, is the probability of event $\\{ X = x \\}$ consiting of all outcomes that give rise of to a value of $X$ equal to $x$:\n",
    "$$p_X(x) = P(\\{ X = x \\})$$\n",
    "\n",
    "### Bernoulli Random Variable\n",
    "\n",
    "$X = 1$ if a head and $X = 0$ if a tail. $p_X(k) = p$ if $k = 1$ and $p_X(k) = (1-p)$ if $k = 0$.\n",
    "\n",
    "### Binomial PMF\n",
    "\n",
    "A coin tosses $n$ times with probability $p$ to come up as head and $1-p$ to come up as tail. Let $X$ be a number of heads in $n$-toss sequence. We refer to $X$ as a **binomial** random variable with parameters $n$ and $p$.\n",
    "\n",
    "<img src=\"binomial_pmf.png\" alt=\"Drawing\" style=\"width: 800px;\"/>\n"
   ]
  },
  {
   "cell_type": "code",
   "execution_count": 27,
   "metadata": {},
   "outputs": [
    {
     "data": {
      "application/vnd.jupyter.widget-view+json": {
       "model_id": "bb2e884c9f6d42a18e92e3686963fd43",
       "version_major": 2,
       "version_minor": 0
      },
      "text/plain": [
       "IntText(value=100, description='n')"
      ]
     },
     "metadata": {},
     "output_type": "display_data"
    },
    {
     "data": {
      "application/vnd.jupyter.widget-view+json": {
       "model_id": "bd30e3ec46a2421bb76127d040804a2c",
       "version_major": 2,
       "version_minor": 0
      },
      "text/plain": [
       "FloatText(value=0.2, description='p')"
      ]
     },
     "metadata": {},
     "output_type": "display_data"
    },
    {
     "data": {
      "application/vnd.jupyter.widget-view+json": {
       "model_id": "63d4bffc5342442090674c2a4e08280d",
       "version_major": 2,
       "version_minor": 0
      },
      "text/plain": [
       "Button(description='show', style=ButtonStyle())"
      ]
     },
     "metadata": {},
     "output_type": "display_data"
    },
    {
     "name": "stdout",
     "output_type": "stream",
     "text": [
      "20.00000000000012   4.0000000000000115\n"
     ]
    },
    {
     "data": {
      "image/png": "[encoded data removed]",
      "text/plain": [
       "<Figure size 432x288 with 1 Axes>"
      ]
     },
     "metadata": {
      "needs_background": "light"
     },
     "output_type": "display_data"
    }
   ],
   "source": [
    "import math\n",
    "from ipywidgets import widgets\n",
    "import matplotlib.pyplot as plt\n",
    "%matplotlib inline\n",
    "\n",
    "\n",
    "def cnk(n, k):\n",
    "    n_f = math.factorial(n)\n",
    "    k_f = math.factorial(k)\n",
    "    n_k_f = math.factorial(n-k)\n",
    "    return n_f / (k_f * n_k_f)\n",
    "\n",
    "\n",
    "def binomial_distr(n, p):\n",
    "    dist = []\n",
    "    for k in range(n+1):\n",
    "        c_nk = cnk(n, k)\n",
    "        p_k = p**k * (1-p)**(n-k)\n",
    "        dist.append(c_nk * p_k)\n",
    "    return dist\n",
    "\n",
    "def mean(x, d):\n",
    "    m = 0\n",
    "    for idx in range(len(d)):\n",
    "        m += x[idx] * d[idx]\n",
    "    return m\n",
    "\n",
    "\n",
    "def variance(dist):\n",
    "    m = mean(range(len(dist)), dist)\n",
    "    d = []\n",
    "    for x in range(len(dist)):\n",
    "        d.append((x-m)**2)\n",
    "    return mean(d, dist)\n",
    "\n",
    "n = widgets.IntText(description='n', value=100)\n",
    "p = widgets.FloatText(description='p', value=0.2)\n",
    "\n",
    "def show_binomial(nn):\n",
    "    dist = binomial_distr(n.value, p.value)\n",
    "    print(mean(range(n.value+1), dist), ' ', pow(variance(dist), .5))\n",
    "    plt.plot(range(n.value+1), dist)\n",
    "    plt.show()\n",
    "\n",
    "b = widgets.Button(description=\"show\")\n",
    "b.on_click(show_binomial)\n",
    "display(n, p, b)\n",
    "\n",
    "\n"
   ]
  },
  {
   "cell_type": "markdown",
   "metadata": {},
   "source": [
    "## Expectation, Mean and Variance\n",
    "### Expectation aand Mean\n",
    "\n",
    "We define **expected value**, **expectation** or **mean** of random variable $X$, with PMF $p_X$, by\n",
    "\n",
    "$$E[X]=\\sum_x x p_X(x)$$\n",
    "\n",
    "\n",
    "### Variance\n",
    "\n",
    "Variance gives the measure of a dispersion of X values around mean or width of a distribution:\n",
    "\n",
    "$$var(X)=E[(X-E[X])^2]$$\n",
    "\n",
    "Another way to measure dispersion is **standard deviation**:\n",
    "\n",
    "$$\\sigma_X = \\sqrt{var(X)}$$\n",
    "\n",
    "\n",
    "## Continuous Random Variable\n",
    "\n",
    "### Probability Density Function\n",
    "\n",
    "A random variable $X$ is called continuous if theere is nonnegative function $f_X$, called **probability density function** of $X$, or PDF for short, such that\n",
    "\n",
    "$$P(X \\in B) = \\int_B f_X(x)dx$$\n",
    "\n",
    "for every subset $B$ of a real line.\n",
    "\n",
    "<img src=\"pdf.png\" alt=\"Drawing\" style=\"width: 800px;\"/>\n",
    "\n",
    "### Normal Random Variable\n",
    "\n",
    "Random variable $X$ is called **normal** or **Gaussian** if it has PDF of the form:\n",
    "\n",
    "$$f_X(x) = \\frac{1}{\\sqrt{2\\pi}\\sigma} e^{-\\frac{(x-\\mu)^2}{2\\sigma^2}}$$\n",
    "\n",
    "\n",
    "<img src=\"normal.png\" alt=\"Drawing\" style=\"width: 800px;\"/>\n",
    "\n",
    "Mean and varience can be calculated as follows:\n",
    "\n",
    "$$E[X] = \\mu$$\n",
    "\n",
    "$$var(X) = \\sigma^2$$\n"
   ]
  }
 ],
 "metadata": {
  "kernelspec": {
   "display_name": "Python 3",
   "language": "python",
   "name": "python3"
  },
  "language_info": {
   "codemirror_mode": {
    "name": "ipython",
    "version": 3
   },
   "file_extension": ".py",
   "mimetype": "text/x-python",
   "name": "python",
   "nbconvert_exporter": "python",
   "pygments_lexer": "ipython3",
   "version": "3.7.0"
  }
 },
 "nbformat": 4,
 "nbformat_minor": 2
}
