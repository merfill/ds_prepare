{
 "cells": [
  {
   "cell_type": "code",
   "execution_count": 56,
   "metadata": {},
   "outputs": [],
   "source": [
    "import math\n",
    "\n",
    "\n",
    "def cnk(n, k):\n",
    "    n_f = math.factorial(n)\n",
    "    k_f = math.factorial(k)\n",
    "    n_k_f = math.factorial(n-k)\n",
    "    return n_f / (k_f * n_k_f)\n",
    "\n",
    "\n",
    "def binomial_distr(n, p):\n",
    "    dist = []\n",
    "    for k in range(n+1):\n",
    "        c_nk = cnk(n, k)\n",
    "        p_k = p**k * (1-p)**(n-k)\n",
    "        dist.append(c_nk * p_k)\n",
    "    return dist\n"
   ]
  },
  {
   "cell_type": "code",
   "execution_count": 75,
   "metadata": {},
   "outputs": [],
   "source": []
  },
  {
   "cell_type": "code",
   "execution_count": 86,
   "metadata": {},
   "outputs": [
    {
     "name": "stdout",
     "output_type": "stream",
     "text": [
      "1.9999999999999962   1.399999999999999\n"
     ]
    },
    {
     "data": {
      "image/png": "[encoded data removed]",
      "text/plain": [
       "<Figure size 432x288 with 1 Axes>"
      ]
     },
     "metadata": {
      "needs_background": "light"
     },
     "output_type": "display_data"
    }
   ],
   "source": [
    "import matplotlib.pyplot as plt\n",
    "%matplotlib inline\n",
    "\n",
    "n = 100\n",
    "p = .02\n",
    "dist = binomial_distr(n, p)\n",
    "print(mean(range(n+1), dist), ' ', pow(variance(dist), .5))\n",
    "plt.plot(range(n+1), dist)\n",
    "plt.show()\n"
   ]
  }
 ],
 "metadata": {
  "kernelspec": {
   "display_name": "Python 3",
   "language": "python",
   "name": "python3"
  },
  "language_info": {
   "codemirror_mode": {
    "name": "ipython",
    "version": 3
   },
   "file_extension": ".py",
   "mimetype": "text/x-python",
   "name": "python",
   "nbconvert_exporter": "python",
   "pygments_lexer": "ipython3",
   "version": "3.7.0"
  }
 },
 "nbformat": 4,
 "nbformat_minor": 2
}
